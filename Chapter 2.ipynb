{
 "cells": [
  {
   "cell_type": "markdown",
   "id": "84fb26c7-7f60-4bfe-af57-868ba8042638",
   "metadata": {},
   "source": [
    "2.4 영상 읽기"
   ]
  },
  {
   "cell_type": "code",
   "execution_count": 2,
   "id": "a7b5d4c7-3e81-4822-9a4f-e19d46e04ed2",
   "metadata": {},
   "outputs": [],
   "source": [
    "import cv2\n",
    "import sys\n",
    "\n",
    "img = cv2.imread('soccer.jpg')\n",
    "\n",
    "if img is None:\n",
    "    sys.exit('파일이 없습니다.')\n",
    "    \n",
    "cv2.imshow('image display', img)\n",
    "\n",
    "cv2.waitKey()\n",
    "cv2.destroyAllWindows()"
   ]
  },
  {
   "cell_type": "markdown",
   "id": "958d9de0-baa3-47d2-8fe3-f45f36ae7271",
   "metadata": {},
   "source": [
    "2.5 영상 형태 변환, 크기 축소"
   ]
  },
  {
   "cell_type": "code",
   "execution_count": 3,
   "id": "17b15202-6ee8-4381-8024-a71ac2d12d6d",
   "metadata": {},
   "outputs": [
    {
     "data": {
      "text/plain": [
       "True"
      ]
     },
     "execution_count": 3,
     "metadata": {},
     "output_type": "execute_result"
    }
   ],
   "source": [
    "import cv2\n",
    "import sys\n",
    "\n",
    "img = cv2.imread('soccer.jpg')\n",
    "\n",
    "if img is None:\n",
    "    sys.exit('파일이 없습니다.')\n",
    "\n",
    "gray = cv2.cvtColor(img,cv2.COLOR_BGR2GRAY)\n",
    "gray_small = cv2.resize(gray, dsize = (0,0), fx = 0.5, fy = 0.5)\n",
    "\n",
    "cv2.imwrite('gray.jpg', gray)\n",
    "cv2.imwrite('gray_small.jpg', gray_small)"
   ]
  },
  {
   "cell_type": "markdown",
   "id": "bc597602-7792-4f6c-b12a-c13e2d01c64c",
   "metadata": {},
   "source": [
    "2.6 웹 캠에서 비디오 읽기"
   ]
  },
  {
   "cell_type": "code",
   "execution_count": 5,
   "id": "974c2bed-07ee-4b3e-a046-27191aa49d3d",
   "metadata": {},
   "outputs": [],
   "source": [
    "import cv2\n",
    "import sys\n",
    "\n",
    "cap = cv2.VideoCapture(0,cv2.CAP_DSHOW)\n",
    "\n",
    "if not cap.isOpened():\n",
    "    sys.exit('실패')\n",
    "\n",
    "while True:\n",
    "    ret,frame = cap.read()\n",
    "    \n",
    "    if not ret:\n",
    "        print('없음.')\n",
    "        break\n",
    "        \n",
    "    cv2.imshow('video',frame)\n",
    "    \n",
    "    key = cv2.waitKey(1)\n",
    "    \n",
    "    if key == ord('q'):\n",
    "        break\n",
    "\n",
    "cap.release()\n",
    "cv2.destroyAllWindows()"
   ]
  },
  {
   "cell_type": "markdown",
   "id": "e389788e-948c-4280-a68c-fad209c74317",
   "metadata": {},
   "source": [
    "2.6 웹 캠 비디오에서 영상 수집해서 이어 붙이기"
   ]
  },
  {
   "cell_type": "code",
   "execution_count": 11,
   "id": "57a507c5-7946-4626-aa1b-765214dc418e",
   "metadata": {},
   "outputs": [],
   "source": [
    "import cv2\n",
    "import sys\n",
    "import numpy as np\n",
    "\n",
    "frames = []\n",
    "\n",
    "cap = cv2.VideoCapture(0, cv2.CAP_DSHOW)\n",
    "\n",
    "if not cap.isOpened():\n",
    "    sys.exit('실패')\n",
    "\n",
    "while True:\n",
    "    ret,frame = cap.read()\n",
    "    \n",
    "    if not ret:\n",
    "        print('없음.')\n",
    "        break\n",
    "        \n",
    "    cv2.imshow('video',frame)\n",
    "    \n",
    "    key = cv2.waitKey(1)\n",
    "    \n",
    "    if key == ord('q'):\n",
    "        break\n",
    "        \n",
    "    if key == ord('c'):\n",
    "        frames.append(frame)\n",
    "\n",
    "cap.release()\n",
    "cv2.destroyAllWindows()\n",
    "\n",
    "if len(frames) > 0:\n",
    "    imgs = frames[0]\n",
    "    for i in range(1, min(3,len(frames))):\n",
    "        imgs = np.hstack((imgs,frames[i]))\n",
    "    cv2.imshow('img',imgs)\n",
    "    cv2.waitKey()\n",
    "    cv2.destroyAllWindows()"
   ]
  },
  {
   "cell_type": "markdown",
   "id": "3d7e12e5-645a-4c4b-99de-f65325edb9ca",
   "metadata": {},
   "source": [
    "2.7 영상에 도형 그리고 글자 쓰기"
   ]
  },
  {
   "cell_type": "code",
   "execution_count": 12,
   "id": "31fc1c91-6b20-4a62-8094-c8b09d0b94ef",
   "metadata": {},
   "outputs": [],
   "source": [
    "import cv2\n",
    "import sys\n",
    "\n",
    "img = cv2.imread('soccer.jpg')\n",
    "\n",
    "if img is None:\n",
    "    sys.exit('nothing')\n",
    "\n",
    "cv2.rectangle(img,(100,100),(200,200),(0,0,255),2)\n",
    "cv2.putText(img,'laugh',(300,300),cv2.FONT_HERSHEY_SIMPLEX,1,(255,255,255),2)\n",
    "cv2.imshow('a',img)\n",
    "cv2.waitKey()\n",
    "cv2.destroyAllWindows()"
   ]
  },
  {
   "cell_type": "markdown",
   "id": "4e24424a-d8fb-492a-ab11-a0ec9f670769",
   "metadata": {},
   "source": [
    "2.7 마우스 클릭한 곳에 직사각형 그리기"
   ]
  },
  {
   "cell_type": "code",
   "execution_count": 13,
   "id": "def5c8de-ea4d-4bdd-b0ed-45e7678f463b",
   "metadata": {},
   "outputs": [],
   "source": [
    "import cv2\n",
    "import sys\n",
    "\n",
    "img = cv2.imread('soccer.jpg')\n",
    "\n",
    "if img is None:\n",
    "    sys.exit('nothing')\n",
    "\n",
    "def draw(event,x,y,flags,param):\n",
    "    if event == cv2.EVENT_LBUTTONDOWN:\n",
    "        cv2.rectangle(img,(x,y),(x+200,y+200),(0,0,255),2)\n",
    "    elif event == cv2.EVENT_RBUTTONDOWN:\n",
    "        cv2.rectangle(img,(x,y),(x+100,y+100),(255,0,0),2)\n",
    "\n",
    "    cv2.imshow('Drawing',img)\n",
    "\n",
    "cv2.namedWindow('Drawing')\n",
    "cv2.imshow('Drawing',img)\n",
    "\n",
    "cv2.setMouseCallback('Drawing',draw)\n",
    "\n",
    "while True:\n",
    "    if cv2.waitKey(1) == ord('q'):\n",
    "        cv2.destroyAllWindows()\n",
    "        break"
   ]
  },
  {
   "cell_type": "markdown",
   "id": "567986dc-1d01-4301-93c4-8b459771091c",
   "metadata": {},
   "source": [
    "2.7 드래그로 직사각형 그리기"
   ]
  },
  {
   "cell_type": "code",
   "execution_count": 14,
   "id": "31ac4d37-fffa-4757-8a43-659aee2a1232",
   "metadata": {},
   "outputs": [],
   "source": [
    "import cv2\n",
    "import sys\n",
    "\n",
    "img = cv2.imread('soccer.jpg')\n",
    "\n",
    "if img is None:\n",
    "    sys.exit('nothing')\n",
    "\n",
    "def draw(event,x,y,flags,param):\n",
    "    global ix, iy\n",
    "    \n",
    "    if event == cv2.EVENT_LBUTTONDOWN:\n",
    "        ix, iy = x,y\n",
    "    elif event == cv2.EVENT_LBUTTONUP:\n",
    "        cv2.rectangle(img,(x,y),(ix,iy),(255,0,0),2)\n",
    "\n",
    "    cv2.imshow('Drawing',img)\n",
    "\n",
    "cv2.namedWindow('Drawing')\n",
    "cv2.imshow('Drawing',img)\n",
    "\n",
    "cv2.setMouseCallback('Drawing',draw)\n",
    "\n",
    "while True:\n",
    "    if cv2.waitKey(1) == ord('q'):\n",
    "        cv2.destroyAllWindows()\n",
    "        break"
   ]
  },
  {
   "cell_type": "markdown",
   "id": "cf5c10ba-3c25-4c6a-8697-13b84cce09ba",
   "metadata": {},
   "source": [
    "2.8 그림 그리기"
   ]
  },
  {
   "cell_type": "code",
   "execution_count": 20,
   "id": "ccef6743-8480-4d60-b75d-a3aceef32611",
   "metadata": {},
   "outputs": [],
   "source": [
    "import cv2\n",
    "import sys\n",
    "\n",
    "img = cv2.imread('soccer.jpg')\n",
    "\n",
    "if img is None:\n",
    "    sys.exit('nothing')\n",
    "\n",
    "brushsiz = 5\n",
    "lcolor,rcolor=(255,0,0),(0,0,255)\n",
    "\n",
    "def painting(event,x,y,flags,param):\n",
    "    \n",
    "    if event == cv2.EVENT_LBUTTONDOWN:\n",
    "        cv2.circle(img,(x,y),brushsiz,lcolor,-1)\n",
    "\n",
    "    elif event == cv2.EVENT_MOUSEMOVE and flags == cv2.EVENT_LBUTTONDOWN:\n",
    "        cv2.circle(img,(x,y),brushsiz,lcolor,-1)\n",
    "\n",
    "    cv2.imshow('painting',img)\n",
    "\n",
    "cv2.namedWindow('painting')\n",
    "cv2.imshow('painting',img)\n",
    "\n",
    "cv2.setMouseCallback('painting',painting)\n",
    "\n",
    "while True:\n",
    "    if cv2.waitKey(1) == ord('q'):\n",
    "        cv2.destroyAllWindows()\n",
    "        break"
   ]
  }
 ],
 "metadata": {
  "kernelspec": {
   "display_name": "Python 3 (ipykernel)",
   "language": "python",
   "name": "python3"
  },
  "language_info": {
   "codemirror_mode": {
    "name": "ipython",
    "version": 3
   },
   "file_extension": ".py",
   "mimetype": "text/x-python",
   "name": "python",
   "nbconvert_exporter": "python",
   "pygments_lexer": "ipython3",
   "version": "3.12.4"
  }
 },
 "nbformat": 4,
 "nbformat_minor": 5
}
