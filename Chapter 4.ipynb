{
 "cells": [
  {
   "cell_type": "markdown",
   "id": "e7b28281-ea2d-4f45-8662-7cc6481babbb",
   "metadata": {},
   "source": [
    "4.1 소벨 에지 검출"
   ]
  },
  {
   "cell_type": "code",
   "execution_count": 1,
   "id": "8d209a89-2e82-41ea-a8bb-b6f07e489a04",
   "metadata": {},
   "outputs": [],
   "source": [
    "import cv2\n",
    "\n",
    "img = cv2.imread('dark.jpg')\n",
    "gray = cv2.cvtColor(img,cv2.COLOR_BGR2GRAY)\n",
    "\n",
    "gradx = cv2.Sobel(gray,cv2.CV_32F,1,0,ksize=3)\n",
    "grady = cv2.Sobel(gray,cv2.CV_32F,0,1,ksize=3)\n",
    "\n",
    "sobelx = cv2.convertScaleAbs(gradx)\n",
    "sobely = cv2.convertScaleAbs(grady)\n",
    "\n",
    "edge_strength = cv2.addWeighted(sobelx,0.5,sobely,0.5,0)\n",
    "\n",
    "cv2.imshow('original',gray)\n",
    "cv2.imshow('sobelx',sobelx)\n",
    "cv2.imshow('sobely',sobely)\n",
    "cv2.imshow('edge_strength',edge_strength)\n",
    "\n",
    "cv2.waitKey()\n",
    "cv2.destroyAllWindows()"
   ]
  },
  {
   "cell_type": "markdown",
   "id": "23c571ec-3fef-4a7b-878a-d53edee15cd1",
   "metadata": {},
   "source": [
    "4.2 캐니 에지"
   ]
  },
  {
   "cell_type": "code",
   "execution_count": 2,
   "id": "022ccb36-0757-4ccb-9a86-4ee9987c9f3b",
   "metadata": {},
   "outputs": [],
   "source": [
    "import cv2\n",
    "\n",
    "img = cv2.imread('soccer2.jpg')\n",
    "gray = cv2.cvtColor(img,cv2.COLOR_BGR2GRAY)\n",
    "\n",
    "canny1 = cv2.Canny(gray,50,150)\n",
    "canny2 = cv2.Canny(gray,100,200)\n",
    "\n",
    "cv2.imshow('original',gray)\n",
    "cv2.imshow('Canny1',canny1)\n",
    "cv2.imshow('Canny2',canny2)\n",
    "\n",
    "cv2.waitKey()\n",
    "cv2.destroyAllWindows()"
   ]
  },
  {
   "cell_type": "markdown",
   "id": "2bcf3cad-ef66-4bf1-a00b-08267b8ab69b",
   "metadata": {},
   "source": [
    "4.3 에지 맵에서 경계선 찾기"
   ]
  },
  {
   "cell_type": "code",
   "execution_count": 3,
   "id": "b1eebace-8bad-480c-af90-9a99a8349fdc",
   "metadata": {},
   "outputs": [],
   "source": [
    "import cv2\n",
    "import numpy as np\n",
    "\n",
    "img = cv2.imread('soccer2.jpg')\n",
    "gray = cv2.cvtColor(img,cv2.COLOR_BGR2GRAY)\n",
    "canny = cv2.Canny(gray,100,200)\n",
    "\n",
    "contour, hierarchy = cv2.findContours(canny,cv2.RETR_LIST,cv2.CHAIN_APPROX_NONE)\n",
    "\n",
    "lcontour = []\n",
    "\n",
    "for i in range(len(contour)):\n",
    "    if contour[i].shape[0] > 100:\n",
    "        lcontour.append(contour[i])\n",
    "\n",
    "cv2.drawContours(img,lcontour,-1,(0,255,0),3)\n",
    "\n",
    "cv2.imshow('original',img)\n",
    "cv2.imshow('canny',canny)\n",
    "\n",
    "cv2.waitKey()\n",
    "cv2.destroyAllWindows()"
   ]
  },
  {
   "cell_type": "markdown",
   "id": "c3345e04-619e-45ea-88ae-c64d9cbb34c4",
   "metadata": {},
   "source": [
    "4.3 허프 변환으로 사과 검출하기"
   ]
  },
  {
   "cell_type": "code",
   "execution_count": 4,
   "id": "b366437f-27ff-427c-883f-c1b43d8fbf5c",
   "metadata": {},
   "outputs": [],
   "source": [
    "import cv2\n",
    "\n",
    "img = cv2.imread('apple.jpg')\n",
    "gray = cv2.cvtColor(img,cv2.COLOR_BGR2GRAY)\n",
    "\n",
    "apples = cv2.HoughCircles(gray,cv2.HOUGH_GRADIENT,1,200, param1 = 150, param2 = 20, minRadius = 50, maxRadius = 120)\n",
    "for i in apples[0]:\n",
    "    cv2.circle(img,(int(i[0]),int(i[1])),int(i[2]),(255,0,0),2)\n",
    "\n",
    "cv2.imshow('apple detection',img)\n",
    "\n",
    "cv2.waitKey()\n",
    "cv2.destroyAllWindows()"
   ]
  },
  {
   "cell_type": "markdown",
   "id": "6c91e166-137f-49e3-9f1e-c6965181b192",
   "metadata": {},
   "source": [
    "4.4 SLIC 알고리즘으로 입력 영상을 슈퍼 화소 분할하기"
   ]
  },
  {
   "cell_type": "code",
   "execution_count": 5,
   "id": "5a5f5d98-e529-4c83-bfc8-f21bdcfd3c3c",
   "metadata": {},
   "outputs": [
    {
     "name": "stdout",
     "output_type": "stream",
     "text": [
      "Requirement already satisfied: scikit-image in c:\\users\\simpl\\anaconda3\\lib\\site-packages (0.23.2)\n",
      "Requirement already satisfied: numpy>=1.23 in c:\\users\\simpl\\anaconda3\\lib\\site-packages (from scikit-image) (1.26.4)\n",
      "Requirement already satisfied: scipy>=1.9 in c:\\users\\simpl\\anaconda3\\lib\\site-packages (from scikit-image) (1.13.1)\n",
      "Requirement already satisfied: networkx>=2.8 in c:\\users\\simpl\\anaconda3\\lib\\site-packages (from scikit-image) (3.2.1)\n",
      "Requirement already satisfied: pillow>=9.1 in c:\\users\\simpl\\anaconda3\\lib\\site-packages (from scikit-image) (10.3.0)\n",
      "Requirement already satisfied: imageio>=2.33 in c:\\users\\simpl\\anaconda3\\lib\\site-packages (from scikit-image) (2.33.1)\n",
      "Requirement already satisfied: tifffile>=2022.8.12 in c:\\users\\simpl\\anaconda3\\lib\\site-packages (from scikit-image) (2023.4.12)\n",
      "Requirement already satisfied: packaging>=21 in c:\\users\\simpl\\anaconda3\\lib\\site-packages (from scikit-image) (23.2)\n",
      "Requirement already satisfied: lazy-loader>=0.4 in c:\\users\\simpl\\anaconda3\\lib\\site-packages (from scikit-image) (0.4)\n",
      "Note: you may need to restart the kernel to use updated packages.\n"
     ]
    }
   ],
   "source": [
    "pip install scikit-image"
   ]
  },
  {
   "cell_type": "code",
   "execution_count": 16,
   "id": "8c6d41f7-2b69-450c-abd9-14c23d91fe6c",
   "metadata": {},
   "outputs": [],
   "source": [
    "import cv2\n",
    "import skimage\n",
    "import numpy as np\n",
    "img = skimage.data.coffee()\n",
    "\n",
    "cv2.imshow('coffee', cv2.cvtColor(img, cv2.COLOR_RGB2BGR))\n",
    "\n",
    "slic1 = skimage.segmentation.slic(img, compactness = 20, n_segments = 600)\n",
    "sp_img = skimage.segmentation.mark_boundaries(img, slic1)\n",
    "sp_img = np.uint8(sp_img * 255.0)\n",
    "\n",
    "cv2.imshow('super pixel', cv2.cvtColor(sp_img,cv2.COLOR_RGB2BGR))\n",
    "\n",
    "cv2.waitKey(0)\n",
    "cv2.destroyAllWindows()"
   ]
  },
  {
   "cell_type": "markdown",
   "id": "cfebde1a-9e8c-496d-a678-2bb94e633568",
   "metadata": {},
   "source": [
    "4.4 정규화 절단 알고리즘으로 영역 분할하기"
   ]
  },
  {
   "cell_type": "code",
   "execution_count": 1,
   "id": "a3f86b4d-98be-4614-8081-a33f962cbc8c",
   "metadata": {},
   "outputs": [
    {
     "ename": "AttributeError",
     "evalue": "No skimage.future attribute graph",
     "output_type": "error",
     "traceback": [
      "\u001b[1;31m---------------------------------------------------------------------------\u001b[0m",
      "\u001b[1;31mAttributeError\u001b[0m                            Traceback (most recent call last)",
      "Cell \u001b[1;32mIn[1], line 9\u001b[0m\n\u001b[0;32m      5\u001b[0m coffee \u001b[38;5;241m=\u001b[39m skimage\u001b[38;5;241m.\u001b[39mdata\u001b[38;5;241m.\u001b[39mcoffee()\n\u001b[0;32m      7\u001b[0m slic \u001b[38;5;241m=\u001b[39m skimage\u001b[38;5;241m.\u001b[39msegmentation\u001b[38;5;241m.\u001b[39mslic(coffee, compactness \u001b[38;5;241m=\u001b[39m \u001b[38;5;241m20\u001b[39m, n_segments \u001b[38;5;241m=\u001b[39m \u001b[38;5;241m600\u001b[39m)\n\u001b[1;32m----> 9\u001b[0m g \u001b[38;5;241m=\u001b[39m skimage\u001b[38;5;241m.\u001b[39mfuture\u001b[38;5;241m.\u001b[39mgraph\u001b[38;5;241m.\u001b[39mrag_mean_color(coffee, slic, mode \u001b[38;5;241m=\u001b[39m \u001b[38;5;124m'\u001b[39m\u001b[38;5;124msimilarity\u001b[39m\u001b[38;5;124m'\u001b[39m)\n\u001b[0;32m     11\u001b[0m ncut \u001b[38;5;241m=\u001b[39m skimage\u001b[38;5;241m.\u001b[39mfuture\u001b[38;5;241m.\u001b[39mgraph\u001b[38;5;241m.\u001b[39mcut_normalized(slic, g)\n\u001b[0;32m     13\u001b[0m marking \u001b[38;5;241m=\u001b[39m skimage\u001b[38;5;241m.\u001b[39msegmentation\u001b[38;5;241m.\u001b[39mmark_boundaries(coffee, ncut)\n",
      "File \u001b[1;32m~\\anaconda3\\Lib\\site-packages\\lazy_loader\\__init__.py:94\u001b[0m, in \u001b[0;36mattach.<locals>.__getattr__\u001b[1;34m(name)\u001b[0m\n\u001b[0;32m     92\u001b[0m     \u001b[38;5;28;01mreturn\u001b[39;00m attr\n\u001b[0;32m     93\u001b[0m \u001b[38;5;28;01melse\u001b[39;00m:\n\u001b[1;32m---> 94\u001b[0m     \u001b[38;5;28;01mraise\u001b[39;00m \u001b[38;5;167;01mAttributeError\u001b[39;00m(\u001b[38;5;124mf\u001b[39m\u001b[38;5;124m\"\u001b[39m\u001b[38;5;124mNo \u001b[39m\u001b[38;5;132;01m{\u001b[39;00mpackage_name\u001b[38;5;132;01m}\u001b[39;00m\u001b[38;5;124m attribute \u001b[39m\u001b[38;5;132;01m{\u001b[39;00mname\u001b[38;5;132;01m}\u001b[39;00m\u001b[38;5;124m\"\u001b[39m)\n",
      "\u001b[1;31mAttributeError\u001b[0m: No skimage.future attribute graph"
     ]
    }
   ],
   "source": [
    "import cv2\n",
    "import skimage\n",
    "import numpy as np\n",
    "\n",
    "coffee = skimage.data.coffee()\n",
    "\n",
    "slic = skimage.segmentation.slic(coffee, compactness = 20, n_segments = 600)\n",
    "\n",
    "g = skimage.future.graph.rag_mean_color(coffee, slic, mode = 'similarity')\n",
    "\n",
    "ncut = skimage.future.graph.cut_normalized(slic, g)\n",
    "\n",
    "marking = skimage.segmentation.mark_boundaries(coffee, ncut)\n",
    "ncut_coffee = np.uint8(marking * 255.0)\n",
    "\n",
    "cv2.imshow('normalized cut', cv2.cvtColor(ncut_coffee, cv2.COLOR_RGB2BGR))\n",
    "cv2.waitKey()\n",
    "cv2.destroyAllWindows()"
   ]
  },
  {
   "cell_type": "markdown",
   "id": "240f76e1-c338-4efc-b88f-5d7e657134aa",
   "metadata": {},
   "source": [
    "4.5 GrabCut으로 물체 분할"
   ]
  },
  {
   "cell_type": "code",
   "execution_count": 5,
   "id": "7339cb60-8912-434e-86dc-5b20cdc9d43c",
   "metadata": {},
   "outputs": [],
   "source": [
    "import cv2\n",
    "import numpy as np\n",
    "\n",
    "\n",
    "img = cv2.imread('soccer2.jpg')\n",
    "img_show = np.copy(img)\n",
    "\n",
    "mask = np.zeros((img.shape[0], img.shape[1]), np.uint8)\n",
    "mask[:,:] = cv2.GC_PR_BGD\n",
    "\n",
    "brushsiz = 9\n",
    "lcolor, rcolor = (255,0,0), (0,0,255)\n",
    "\n",
    "def painting(event, x, y, flags, param):\n",
    "    if event == cv2.EVENT_LBUTTONDOWN:\n",
    "        cv2.circle(img_show, (x,y), brushsiz, lcolor, -1)\n",
    "        cv2.circle(mask, (x,y), brushsiz, cv2.GC_FGD, -1)\n",
    "\n",
    "    elif event == cv2.EVENT_RBUTTONDOWN:\n",
    "        cv2.circle(img_show, (x,y), brushsiz, rcolor, -1)\n",
    "        cv2.circle(mask, (x,y), brushsiz, cv2.GC_BGD, -1)\n",
    "\n",
    "    elif event == cv2.EVENT_MOUSEMOVE and flags == cv2.EVENT_FLAG_LBUTTON:\n",
    "        cv2.circle(img_show, (x,y), brushsiz, lcolor, -1)\n",
    "        cv2.circle(mask, (x,y), brushsiz, cv2.GC_FGD, -1)\n",
    "\n",
    "    elif event == cv2.EVENT_MOUSEMOVE and flags == cv2.EVENT_FLAG_RBUTTON:\n",
    "        cv2.circle(img_show, (x,y), brushsiz, rcolor, -1)\n",
    "        cv2.circle(mask, (x,y), brushsiz, cv2.GC_BGD, -1)\n",
    "        \n",
    "    cv2.imshow('painting', img_show)\n",
    "\n",
    "cv2.namedWindow('painting')\n",
    "cv2.setMouseCallback('painting',painting)\n",
    "\n",
    "\n",
    "while True:\n",
    "    if cv2.waitKey(1) == ord('q'):\n",
    "        break\n",
    "\n",
    "background = np.zeros((1,65), np.float64)\n",
    "foreground = np.zeros((1,65), np.float64)\n",
    "\n",
    "cv2.grabCut(img, mask, None, background, foreground, 5, cv2.GC_INIT_WITH_MASK)\n",
    "mask2 = np.where((mask == cv2.GC_BGD)|(mask == cv2.GC_PR_BGD), 0,1).astype('uint8')\n",
    "grab = img * mask2[:,:,np.newaxis]\n",
    "cv2.imshow('grab cut image', grab)\n",
    "\n",
    "cv2.waitKey()\n",
    "cv2.destroyAllWindows()"
   ]
  },
  {
   "cell_type": "markdown",
   "id": "1374a93c-a1d7-4f3f-8663-df6039db48ba",
   "metadata": {},
   "source": [
    "4.6 이진 영역의 특징을 추출하는 함수 사용"
   ]
  },
  {
   "cell_type": "code",
   "execution_count": 7,
   "id": "e8389b67-f622-44fb-9bb6-be7118d060f9",
   "metadata": {},
   "outputs": [
    {
     "name": "stdout",
     "output_type": "stream",
     "text": [
      "면적 = 42390.0\n",
      "중점 = (187.72464024534088, 144.43640402610677)\n",
      "둘레 = 2296.7291333675385\n",
      "둥근 정도 = 0.1009842680321435\n"
     ]
    }
   ],
   "source": [
    "import skimage\n",
    "import numpy as np\n",
    "import cv2\n",
    "\n",
    "orig = skimage.data.horse()\n",
    "img = 255 - np.uint8(orig) * 255\n",
    "cv2.imshow('horse', img)\n",
    "\n",
    "contours, hierarchy = cv2.findContours(img, cv2.RETR_EXTERNAL, cv2.CHAIN_APPROX_NONE)\n",
    "\n",
    "img2 = cv2.cvtColor(img, cv2.COLOR_GRAY2BGR)\n",
    "cv2. drawContours(img2, contours, -1, (255,0,255), 2)\n",
    "cv2.imshow('horse with contour', img2)\n",
    "\n",
    "contour = contours[0]\n",
    "\n",
    "m = cv2.moments(contour)\n",
    "area = cv2.contourArea(contour)\n",
    "cx, cy = m['m10']/m['m00'], m['m01']/m['m00']\n",
    "perimeter = cv2.arcLength(contour, True)\n",
    "roundness = (4.0 * np.pi * area)/(perimeter * perimeter)\n",
    "print(f'면적 = {area}\\n중점 = ({cx}, {cy})\\n둘레 = {perimeter}\\n둥근 정도 = {roundness}')\n",
    "\n",
    "img3 = cv2.cvtColor(img, cv2.COLOR_GRAY2BGR)\n",
    "\n",
    "contour_approx = cv2.approxPolyDP(contour, 8, True)\n",
    "cv2.drawContours(img3, [contour_approx],-1, (0,255,0),2)\n",
    "\n",
    "hull = cv2.convexHull(contour)\n",
    "hull = hull.reshape(1, hull.shape[0], hull.shape[2])\n",
    "cv2.drawContours(img3,hull, -1, (0,0,255),2)\n",
    "\n",
    "cv2.imshow('horse with line segments and convex hull', img3)\n",
    "\n",
    "cv2.waitKey()\n",
    "cv2.destroyAllWindows()"
   ]
  }
 ],
 "metadata": {
  "kernelspec": {
   "display_name": "Python 3 (ipykernel)",
   "language": "python",
   "name": "python3"
  },
  "language_info": {
   "codemirror_mode": {
    "name": "ipython",
    "version": 3
   },
   "file_extension": ".py",
   "mimetype": "text/x-python",
   "name": "python",
   "nbconvert_exporter": "python",
   "pygments_lexer": "ipython3",
   "version": "3.12.4"
  }
 },
 "nbformat": 4,
 "nbformat_minor": 5
}
